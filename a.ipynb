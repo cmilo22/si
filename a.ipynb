{
  "nbformat": 4,
  "nbformat_minor": 0,
  "metadata": {
    "colab": {
      "provenance": []
    },
    "kernelspec": {
      "name": "python3",
      "display_name": "Python 3"
    },
    "language_info": {
      "name": "python"
    }
  },
  "cells": [
    {
      "cell_type": "code",
      "execution_count": 12,
      "metadata": {
        "colab": {
          "base_uri": "https://localhost:8080/"
        },
        "id": "7fwdKfGjrv8g",
        "outputId": "e2d57c0e-f492-4fb1-adf7-d1202eeefaac"
      },
      "outputs": [
        {
          "output_type": "stream",
          "name": "stdout",
          "text": [
            "Best Allocation: {'Deposit': 1, 'Withdrawal': 2, 'Loan Application': 4}\n",
            "Best Profit: 219\n",
            "producto1 1\n",
            "producto2 2\n",
            "producto3 4\n"
          ]
        }
      ],
      "source": [
        "import random\n",
        "import math\n",
        "\n",
        "# Constants\n",
        "NUM_EMPLOYEES = 20\n",
        "NUM_WORKSTATIONS = 15\n",
        "DAILY_PROCESSING_HOURS = 8 * NUM_EMPLOYEES  # 8 hours per employee in minutes\n",
        "\n",
        "# Transaction information\n",
        "transactions = {\n",
        "    'Deposit': {'processing_time': 10, 'profit': 5},\n",
        "    'Withdrawal': {'processing_time': 15, 'profit': 7},\n",
        "    'Loan Application': {'processing_time': 30, 'profit': 50}\n",
        "}\n",
        "\n",
        "# Initial allocation\n",
        "initial_allocation = {'Deposit': 0, 'Withdrawal': 0, 'Loan Application': 0}\n",
        "\n",
        "# Function to calculate total profit\n",
        "def calculate_profit(allocation):\n",
        "    total_profit = 0\n",
        "    for transaction, quantity in allocation.items():\n",
        "        total_profit += quantity * transactions[transaction]['profit']\n",
        "    return total_profit\n",
        "\n",
        "# Simulated annealing algorithm\n",
        "def simulated_annealing(initial_allocation, max_iterations, initial_temperature, temperature_decay):\n",
        "    current_allocation = initial_allocation.copy()\n",
        "    current_profit = calculate_profit(current_allocation)\n",
        "    best_allocation = current_allocation.copy()\n",
        "    best_profit = current_profit\n",
        "\n",
        "    temperature = initial_temperature\n",
        "\n",
        "    for i in range(max_iterations):\n",
        "        # Generate a neighboring solution by randomly adjusting allocation\n",
        "        transaction_to_adjust = random.choice(list(transactions.keys()))\n",
        "        adjustment = random.randint(-1, 1)\n",
        "        new_allocation = current_allocation.copy()\n",
        "        new_allocation[transaction_to_adjust] += adjustment\n",
        "\n",
        "        # Verify that the new allocation is feasible and doesn't become negative\n",
        "        if all(new_allocation[transaction] >= 0 for transaction in new_allocation):\n",
        "            total_processing_time = sum(new_allocation[transaction] * transactions[transaction]['processing_time'] for transaction in new_allocation)\n",
        "            if total_processing_time <= DAILY_PROCESSING_HOURS:\n",
        "                new_profit = calculate_profit(new_allocation)\n",
        "\n",
        "                # Accept the new solution if it improves profit or with a certain probability\n",
        "                if new_profit > current_profit or random.random() < math.exp((new_profit - current_profit) / temperature):\n",
        "                    current_allocation = new_allocation\n",
        "                    current_profit = new_profit\n",
        "\n",
        "                    # Update the best solution if needed\n",
        "                    if new_profit > best_profit:\n",
        "                        best_allocation = new_allocation\n",
        "                        best_profit = new_profit\n",
        "\n",
        "        # Update temperature\n",
        "        temperature *= temperature_decay\n",
        "\n",
        "    return best_allocation, best_profit\n",
        "\n",
        "# Parameters for simulated annealing\n",
        "max_iterations = 1000\n",
        "initial_temperature = 100.0\n",
        "temperature_decay = 0.95\n",
        "\n",
        "# Run simulated annealing\n",
        "best_allocation, best_profit = simulated_annealing(initial_allocation, max_iterations, initial_temperature, temperature_decay)\n",
        "\n",
        "print(\"Best Allocation:\", best_allocation)\n",
        "print(\"Best Profit:\", best_profit)\n",
        "count=0\n",
        "for i in best_allocation:\n",
        "    count = count+1\n",
        "    print(\"producto\"+str(count)+\" \"+ str(best_allocation[i]))"
      ]
    }
  ]
}